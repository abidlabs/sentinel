{
 "cells": [
  {
   "cell_type": "code",
   "execution_count": 16,
   "id": "subject-israeli",
   "metadata": {},
   "outputs": [],
   "source": [
    "import newspaper\n",
    "from db import update_row\n",
    "import tqdm"
   ]
  },
  {
   "cell_type": "code",
   "execution_count": 19,
   "id": "disabled-tennessee",
   "metadata": {},
   "outputs": [],
   "source": [
    "# newspaper.popular_urls()"
   ]
  },
  {
   "cell_type": "code",
   "execution_count": 23,
   "id": "incorrect-bunch",
   "metadata": {},
   "outputs": [
    {
     "data": {
      "text/plain": [
       "'Congress'"
      ]
     },
     "execution_count": 23,
     "metadata": {},
     "output_type": "execute_result"
    }
   ],
   "source": [
    "article.title"
   ]
  },
  {
   "cell_type": "code",
   "execution_count": 24,
   "id": "racial-comfort",
   "metadata": {},
   "outputs": [
    {
     "ename": "AttributeError",
     "evalue": "'Article' object has no attribute 'date'",
     "output_type": "error",
     "traceback": [
      "\u001b[1;31m---------------------------------------------------------------------------\u001b[0m",
      "\u001b[1;31mAttributeError\u001b[0m                            Traceback (most recent call last)",
      "\u001b[1;32m<ipython-input-24-440de8a6e2a0>\u001b[0m in \u001b[0;36m<module>\u001b[1;34m\u001b[0m\n\u001b[1;32m----> 1\u001b[1;33m \u001b[0marticle\u001b[0m\u001b[1;33m.\u001b[0m\u001b[0mdate\u001b[0m\u001b[1;33m\u001b[0m\u001b[1;33m\u001b[0m\u001b[0m\n\u001b[0m",
      "\u001b[1;31mAttributeError\u001b[0m: 'Article' object has no attribute 'date'"
     ]
    }
   ],
   "source": [
    "article."
   ]
  },
  {
   "cell_type": "code",
   "execution_count": 30,
   "id": "previous-hazard",
   "metadata": {},
   "outputs": [
    {
     "name": "stderr",
     "output_type": "stream",
     "text": [
      "  0%|                                                                                                                                 | 0/7 [00:02<?, ?it/s]\n"
     ]
    },
    {
     "ename": "NameError",
     "evalue": "name 'date' is not defined",
     "output_type": "error",
     "traceback": [
      "\u001b[1;31m---------------------------------------------------------------------------\u001b[0m",
      "\u001b[1;31mNameError\u001b[0m                                 Traceback (most recent call last)",
      "\u001b[1;32m<ipython-input-30-9a7ad4970605>\u001b[0m in \u001b[0;36m<module>\u001b[1;34m\u001b[0m\n\u001b[0;32m      6\u001b[0m         \u001b[0marticle\u001b[0m\u001b[1;33m.\u001b[0m\u001b[0mtext\u001b[0m\u001b[1;33m\u001b[0m\u001b[1;33m\u001b[0m\u001b[0m\n\u001b[0;32m      7\u001b[0m         \u001b[0mbias\u001b[0m \u001b[1;33m=\u001b[0m \u001b[1;36m50\u001b[0m\u001b[1;33m\u001b[0m\u001b[1;33m\u001b[0m\u001b[0m\n\u001b[1;32m----> 8\u001b[1;33m         \u001b[1;32mif\u001b[0m \u001b[0mdate\u001b[0m \u001b[1;32mis\u001b[0m \u001b[1;32mnot\u001b[0m \u001b[1;32mNone\u001b[0m\u001b[1;33m:\u001b[0m\u001b[1;33m\u001b[0m\u001b[1;33m\u001b[0m\u001b[0m\n\u001b[0m\u001b[0;32m      9\u001b[0m             \u001b[0mdate\u001b[0m \u001b[1;33m=\u001b[0m \u001b[0marticle\u001b[0m\u001b[1;33m.\u001b[0m\u001b[0mpublish_date\u001b[0m\u001b[1;33m.\u001b[0m\u001b[0mstrftime\u001b[0m\u001b[1;33m(\u001b[0m\u001b[1;34m'%B %d, %Y'\u001b[0m\u001b[1;33m)\u001b[0m\u001b[1;33m\u001b[0m\u001b[1;33m\u001b[0m\u001b[0m\n\u001b[0;32m     10\u001b[0m         \u001b[1;32melse\u001b[0m\u001b[1;33m:\u001b[0m\u001b[1;33m\u001b[0m\u001b[1;33m\u001b[0m\u001b[0m\n",
      "\u001b[1;31mNameError\u001b[0m: name 'date' is not defined"
     ]
    }
   ],
   "source": [
    "for site in newspaper.popular_urls():\n",
    "    paper = newspaper.build(site)\n",
    "    for article in tqdm.tqdm(paper.articles):\n",
    "        article.download()\n",
    "        article.parse()\n",
    "        article.text\n",
    "        bias = 50\n",
    "        if article.publish_date is not None:\n",
    "            date = article.publish_date.strftime('%B %d, %Y')\n",
    "        else:\n",
    "            date = \"Unknown\"\n",
    "        if 'Palestine' in article.text or 'Palestinian' in article.text or 1:\n",
    "            info = {\n",
    "                'url': article.url,\n",
    "                'title': article.title,\n",
    "                'outlet': site,\n",
    "                'topic': 'Random',\n",
    "                'date': date,\n",
    "                'bias': str(bias),                \n",
    "            }\n",
    "            print(info)\n",
    "            update_row(info)"
   ]
  },
  {
   "cell_type": "code",
   "execution_count": null,
   "id": "informational-verification",
   "metadata": {},
   "outputs": [
    {
     "name": "stdout",
     "output_type": "stream",
     "text": [
      "0 1 2 3 4 5 6 7 8 9 10 11 12 13 https://www.npr.org/2021/05/23/999563064/who-is-the-media-for-journalist-sarah-jones-on-ethics-in-the-industry\n",
      "14 15 16 17 18 19 20 21 22 23 24 25 26 27 28 29 30 31 32 33 34 https://www.npr.org/2021/05/09/995261738/pfizer-fda-approval-israeli-palestinian-violence-pipeline-hack-fallout\n",
      "35 36 37 38 39 40 41 42 43 44 45 46 47 48 49 50 https://www.npr.org/2021/04/30/992252126/grim-picture-emerges-after-stampede-at-religious-festival-in-israel\n",
      "51 52 53 54 55 56 57 58 59 60 61 62 63 64 65 66 67 68 69 70 71 72 73 74 75 76 77 78 79 80 81 82 83 84 85 86 87 88 89 90 91 92 93 94 95 96 97 98 99 100 101 102 103 104 105 106 107 108 109 110 111 112 113 114 115 116 117 118 119 120 121 122 "
     ]
    }
   ],
   "source": [
    "import newspaper\n",
    "\n",
    "for a, article in enumerate(cnn_paper.articles[60:]):\n",
    "    print(a, end=' ')\n",
    "    article.download()    \n",
    "    article.parse()\n"
   ]
  },
  {
   "cell_type": "code",
   "execution_count": 17,
   "id": "dramatic-twenty",
   "metadata": {},
   "outputs": [
    {
     "data": {
      "text/plain": [
       "[]"
      ]
     },
     "execution_count": 17,
     "metadata": {},
     "output_type": "execute_result"
    }
   ],
   "source": [
    "cnn_paper.articles"
   ]
  }
 ],
 "metadata": {
  "kernelspec": {
   "display_name": "Python 3",
   "language": "python",
   "name": "python3"
  },
  "language_info": {
   "codemirror_mode": {
    "name": "ipython",
    "version": 3
   },
   "file_extension": ".py",
   "mimetype": "text/x-python",
   "name": "python",
   "nbconvert_exporter": "python",
   "pygments_lexer": "ipython3",
   "version": "3.9.0"
  }
 },
 "nbformat": 4,
 "nbformat_minor": 5
}
