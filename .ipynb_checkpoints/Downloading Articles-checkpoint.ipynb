{
 "cells": [
  {
   "cell_type": "code",
   "execution_count": 16,
   "id": "subject-israeli",
   "metadata": {},
   "outputs": [],
   "source": [
    "import newspaper\n",
    "from db import update_row\n",
    "import tqdm"
   ]
  },
  {
   "cell_type": "code",
   "execution_count": 19,
   "id": "heated-flash",
   "metadata": {},
   "outputs": [],
   "source": [
    "# newspaper.popular_urls()"
   ]
  },
  {
   "cell_type": "code",
   "execution_count": null,
   "id": "previous-hazard",
   "metadata": {},
   "outputs": [],
   "source": [
    "for site in newspaper.popular_urls():\n",
    "    paper = newspaper.build(site)\n",
    "    for article in tqdm.tqdm(paper.articles):\n",
    "        try:\n",
    "            article.download()\n",
    "            article.parse()\n",
    "        except:\n",
    "            continue\n",
    "        article.text\n",
    "        bias = 50\n",
    "        if article.publish_date is not None:\n",
    "            date = article.publish_date.strftime('%B %d, %Y')\n",
    "        else:\n",
    "            date = \"Unknown\"\n",
    "        if 'Palestine' in article.text or 'Palestinian' in article.text:\n",
    "            info = {\n",
    "                'url': article.url,\n",
    "                'title': article.title,\n",
    "                'outlet': site,\n",
    "                'topic': 'Palestine',\n",
    "                'date': date,\n",
    "                'bias': str(bias),                \n",
    "            }\n",
    "            print(info)\n",
    "            update_row(info)"
   ]
  }
 ],
 "metadata": {
  "kernelspec": {
   "display_name": "Python 3",
   "language": "python",
   "name": "python3"
  },
  "language_info": {
   "codemirror_mode": {
    "name": "ipython",
    "version": 3
   },
   "file_extension": ".py",
   "mimetype": "text/x-python",
   "name": "python",
   "nbconvert_exporter": "python",
   "pygments_lexer": "ipython3",
   "version": "3.9.0"
  }
 },
 "nbformat": 4,
 "nbformat_minor": 5
}
