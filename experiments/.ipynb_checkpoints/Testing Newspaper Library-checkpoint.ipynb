{
 "cells": [
  {
   "cell_type": "code",
   "execution_count": 1,
   "id": "prospective-medium",
   "metadata": {},
   "outputs": [],
   "source": [
    "import newspaper\n",
    "cnn_paper = newspaper.build('http://cnn.com')"
   ]
  },
  {
   "cell_type": "code",
   "execution_count": 2,
   "id": "double-sheep",
   "metadata": {},
   "outputs": [],
   "source": [
    "for article in cnn_paper.articles:\n",
    "    print(article.url)"
   ]
  },
  {
   "cell_type": "code",
   "execution_count": 16,
   "id": "apparent-holly",
   "metadata": {},
   "outputs": [],
   "source": [
    "import newspaper\n",
    "cnn_paper = newspaper.build('http://cnn.com')\n",
    "counter = 0\n",
    "\n",
    "for a, article in enumerate(cnn_paper.articles):\n",
    "    print(a, end=' ')\n",
    "    article.download()    \n",
    "    article.parse()\n",
    "    if 'Palestine' in article.text or 'Palestinian' in article.text:\n",
    "        print(article.url)\n",
    "        break"
   ]
  },
  {
   "cell_type": "code",
   "execution_count": 17,
   "id": "center-immune",
   "metadata": {},
   "outputs": [
    {
     "data": {
      "text/plain": [
       "[]"
      ]
     },
     "execution_count": 17,
     "metadata": {},
     "output_type": "execute_result"
    }
   ],
   "source": [
    "cnn_paper.articles"
   ]
  }
 ],
 "metadata": {
  "kernelspec": {
   "display_name": "Python 3",
   "language": "python",
   "name": "python3"
  },
  "language_info": {
   "codemirror_mode": {
    "name": "ipython",
    "version": 3
   },
   "file_extension": ".py",
   "mimetype": "text/x-python",
   "name": "python",
   "nbconvert_exporter": "python",
   "pygments_lexer": "ipython3",
   "version": "3.9.0"
  }
 },
 "nbformat": 4,
 "nbformat_minor": 5
}
